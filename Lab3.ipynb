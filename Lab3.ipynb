{
  "cells": [
    {
      "cell_type": "markdown",
      "metadata": {},
      "source": [
        "# Lab 3 - Video Game Reviews"
      ]
    },
    {
      "cell_type": "code",
      "execution_count": 2,
      "metadata": {
        "id": "gIWe8vk2fPX7"
      },
      "outputs": [],
      "source": [
        "import pandas as pd\n",
        "from math import nan"
      ]
    },
    {
      "cell_type": "markdown",
      "metadata": {
        "id": "4N0ty0ecrWcn"
      },
      "source": [
        "## Import Data"
      ]
    },
    {
      "cell_type": "code",
      "execution_count": 3,
      "metadata": {
        "id": "qY7nb0rAgWrr"
      },
      "outputs": [],
      "source": [
        "df = pd.read_csv('imdb-videogames.csv')"
      ]
    },
    {
      "cell_type": "code",
      "execution_count": 4,
      "metadata": {
        "colab": {
          "base_uri": "https://localhost:8080/",
          "height": 359
        },
        "id": "eIkZ2SBehFrY",
        "outputId": "8952e428-b938-4933-b581-9be7ddf2cdea"
      },
      "outputs": [
        {
          "data": {
            "text/html": [
              "<div>\n",
              "<style scoped>\n",
              "    .dataframe tbody tr th:only-of-type {\n",
              "        vertical-align: middle;\n",
              "    }\n",
              "\n",
              "    .dataframe tbody tr th {\n",
              "        vertical-align: top;\n",
              "    }\n",
              "\n",
              "    .dataframe thead th {\n",
              "        text-align: right;\n",
              "    }\n",
              "</style>\n",
              "<table border=\"1\" class=\"dataframe\">\n",
              "  <thead>\n",
              "    <tr style=\"text-align: right;\">\n",
              "      <th></th>\n",
              "      <th>Unnamed: 0</th>\n",
              "      <th>name</th>\n",
              "      <th>url</th>\n",
              "      <th>year</th>\n",
              "      <th>certificate</th>\n",
              "      <th>rating</th>\n",
              "      <th>votes</th>\n",
              "      <th>plot summary</th>\n",
              "      <th>Action</th>\n",
              "      <th>Adventure</th>\n",
              "      <th>Comedy</th>\n",
              "      <th>Crime</th>\n",
              "      <th>Family</th>\n",
              "      <th>Fantasy</th>\n",
              "      <th>Mystery</th>\n",
              "      <th>Sci-Fi</th>\n",
              "      <th>Thriller</th>\n",
              "    </tr>\n",
              "  </thead>\n",
              "  <tbody>\n",
              "    <tr>\n",
              "      <th>0</th>\n",
              "      <td>0</td>\n",
              "      <td>Spider-Man</td>\n",
              "      <td>https://www.imdb.com/title/tt5807780/?ref_=adv...</td>\n",
              "      <td>2018.0</td>\n",
              "      <td>T</td>\n",
              "      <td>9.2</td>\n",
              "      <td>20,759</td>\n",
              "      <td>When a new villain threatens New York City, Pe...</td>\n",
              "      <td>True</td>\n",
              "      <td>True</td>\n",
              "      <td>False</td>\n",
              "      <td>False</td>\n",
              "      <td>False</td>\n",
              "      <td>True</td>\n",
              "      <td>False</td>\n",
              "      <td>False</td>\n",
              "      <td>False</td>\n",
              "    </tr>\n",
              "    <tr>\n",
              "      <th>1</th>\n",
              "      <td>1</td>\n",
              "      <td>Red Dead Redemption II</td>\n",
              "      <td>https://www.imdb.com/title/tt6161168/?ref_=adv...</td>\n",
              "      <td>2018.0</td>\n",
              "      <td>M</td>\n",
              "      <td>9.7</td>\n",
              "      <td>35,703</td>\n",
              "      <td>Amidst the decline of the Wild West at the tur...</td>\n",
              "      <td>True</td>\n",
              "      <td>True</td>\n",
              "      <td>False</td>\n",
              "      <td>True</td>\n",
              "      <td>False</td>\n",
              "      <td>False</td>\n",
              "      <td>False</td>\n",
              "      <td>False</td>\n",
              "      <td>False</td>\n",
              "    </tr>\n",
              "    <tr>\n",
              "      <th>2</th>\n",
              "      <td>2</td>\n",
              "      <td>Grand Theft Auto V</td>\n",
              "      <td>https://www.imdb.com/title/tt2103188/?ref_=adv...</td>\n",
              "      <td>2013.0</td>\n",
              "      <td>M</td>\n",
              "      <td>9.5</td>\n",
              "      <td>59,986</td>\n",
              "      <td>Three very different criminals team up for a s...</td>\n",
              "      <td>True</td>\n",
              "      <td>False</td>\n",
              "      <td>False</td>\n",
              "      <td>True</td>\n",
              "      <td>False</td>\n",
              "      <td>False</td>\n",
              "      <td>False</td>\n",
              "      <td>False</td>\n",
              "      <td>False</td>\n",
              "    </tr>\n",
              "    <tr>\n",
              "      <th>3</th>\n",
              "      <td>3</td>\n",
              "      <td>God of War</td>\n",
              "      <td>https://www.imdb.com/title/tt5838588/?ref_=adv...</td>\n",
              "      <td>2018.0</td>\n",
              "      <td>M</td>\n",
              "      <td>9.6</td>\n",
              "      <td>26,118</td>\n",
              "      <td>After wiping out the gods of Mount Olympus, Kr...</td>\n",
              "      <td>True</td>\n",
              "      <td>True</td>\n",
              "      <td>False</td>\n",
              "      <td>False</td>\n",
              "      <td>False</td>\n",
              "      <td>False</td>\n",
              "      <td>False</td>\n",
              "      <td>False</td>\n",
              "      <td>False</td>\n",
              "    </tr>\n",
              "    <tr>\n",
              "      <th>4</th>\n",
              "      <td>4</td>\n",
              "      <td>Uncharted 4: A Thief's End</td>\n",
              "      <td>https://www.imdb.com/title/tt3334704/?ref_=adv...</td>\n",
              "      <td>2016.0</td>\n",
              "      <td>T</td>\n",
              "      <td>9.5</td>\n",
              "      <td>28,722</td>\n",
              "      <td>Thrown back into the dangerous underworld he'd...</td>\n",
              "      <td>True</td>\n",
              "      <td>True</td>\n",
              "      <td>False</td>\n",
              "      <td>False</td>\n",
              "      <td>False</td>\n",
              "      <td>False</td>\n",
              "      <td>False</td>\n",
              "      <td>False</td>\n",
              "      <td>False</td>\n",
              "    </tr>\n",
              "  </tbody>\n",
              "</table>\n",
              "</div>"
            ],
            "text/plain": [
              "   Unnamed: 0                        name  \\\n",
              "0           0                  Spider-Man   \n",
              "1           1      Red Dead Redemption II   \n",
              "2           2          Grand Theft Auto V   \n",
              "3           3                  God of War   \n",
              "4           4  Uncharted 4: A Thief's End   \n",
              "\n",
              "                                                 url    year certificate  \\\n",
              "0  https://www.imdb.com/title/tt5807780/?ref_=adv...  2018.0           T   \n",
              "1  https://www.imdb.com/title/tt6161168/?ref_=adv...  2018.0           M   \n",
              "2  https://www.imdb.com/title/tt2103188/?ref_=adv...  2013.0           M   \n",
              "3  https://www.imdb.com/title/tt5838588/?ref_=adv...  2018.0           M   \n",
              "4  https://www.imdb.com/title/tt3334704/?ref_=adv...  2016.0           T   \n",
              "\n",
              "  rating   votes                                       plot summary  Action  \\\n",
              "0    9.2  20,759  When a new villain threatens New York City, Pe...    True   \n",
              "1    9.7  35,703  Amidst the decline of the Wild West at the tur...    True   \n",
              "2    9.5  59,986  Three very different criminals team up for a s...    True   \n",
              "3    9.6  26,118  After wiping out the gods of Mount Olympus, Kr...    True   \n",
              "4    9.5  28,722  Thrown back into the dangerous underworld he'd...    True   \n",
              "\n",
              "   Adventure  Comedy  Crime  Family  Fantasy  Mystery  Sci-Fi  Thriller  \n",
              "0       True   False  False   False     True    False   False     False  \n",
              "1       True   False   True   False    False    False   False     False  \n",
              "2      False   False   True   False    False    False   False     False  \n",
              "3       True   False  False   False    False    False   False     False  \n",
              "4       True   False  False   False    False    False   False     False  "
            ]
          },
          "execution_count": 4,
          "metadata": {},
          "output_type": "execute_result"
        }
      ],
      "source": [
        "df.head()"
      ]
    },
    {
      "cell_type": "code",
      "execution_count": 5,
      "metadata": {
        "colab": {
          "base_uri": "https://localhost:8080/"
        },
        "id": "eR6x6BUwhptZ",
        "outputId": "e2b94951-3d5d-47bf-e3e4-c5c571d2d879"
      },
      "outputs": [
        {
          "data": {
            "text/plain": [
              "(20805, 17)"
            ]
          },
          "execution_count": 5,
          "metadata": {},
          "output_type": "execute_result"
        }
      ],
      "source": [
        "df.shape"
      ]
    },
    {
      "cell_type": "code",
      "execution_count": 6,
      "metadata": {
        "colab": {
          "base_uri": "https://localhost:8080/"
        },
        "id": "kx4xO7-biEGK",
        "outputId": "a5d0a366-f1eb-46e6-a56b-59699a4d9fad"
      },
      "outputs": [
        {
          "name": "stdout",
          "output_type": "stream",
          "text": [
            "<class 'pandas.core.frame.DataFrame'>\n",
            "RangeIndex: 20805 entries, 0 to 20804\n",
            "Data columns (total 17 columns):\n",
            " #   Column        Non-Null Count  Dtype  \n",
            "---  ------        --------------  -----  \n",
            " 0   Unnamed: 0    20805 non-null  int64  \n",
            " 1   name          20805 non-null  object \n",
            " 2   url           20805 non-null  object \n",
            " 3   year          20538 non-null  float64\n",
            " 4   certificate   7905 non-null   object \n",
            " 5   rating        11602 non-null  object \n",
            " 6   votes         11602 non-null  object \n",
            " 7   plot summary  20805 non-null  object \n",
            " 8   Action        20805 non-null  bool   \n",
            " 9   Adventure     20805 non-null  bool   \n",
            " 10  Comedy        20805 non-null  bool   \n",
            " 11  Crime         20805 non-null  bool   \n",
            " 12  Family        20805 non-null  bool   \n",
            " 13  Fantasy       20805 non-null  bool   \n",
            " 14  Mystery       20805 non-null  bool   \n",
            " 15  Sci-Fi        20805 non-null  bool   \n",
            " 16  Thriller      20805 non-null  bool   \n",
            "dtypes: bool(9), float64(1), int64(1), object(6)\n",
            "memory usage: 1.4+ MB\n"
          ]
        }
      ],
      "source": [
        "df.info()"
      ]
    },
    {
      "cell_type": "code",
      "execution_count": 7,
      "metadata": {},
      "outputs": [
        {
          "data": {
            "text/plain": [
              "T            2474\n",
              "E            2006\n",
              "M            1820\n",
              "E10+          814\n",
              "Unrated       241\n",
              "K-A           229\n",
              "Not Rated     184\n",
              "AO             32\n",
              "GA             26\n",
              "EC             25\n",
              "CE             13\n",
              "12              9\n",
              "PG-13           7\n",
              "MA-13           7\n",
              "Approved        4\n",
              "G               4\n",
              "MA-17           3\n",
              "PG              3\n",
              "TV-MA           2\n",
              "TV-14           1\n",
              "Passed          1\n",
              "Name: certificate, dtype: int64"
            ]
          },
          "execution_count": 7,
          "metadata": {},
          "output_type": "execute_result"
        }
      ],
      "source": [
        "df.certificate.value_counts()"
      ]
    },
    {
      "cell_type": "markdown",
      "metadata": {},
      "source": [
        "## Clean Data"
      ]
    },
    {
      "cell_type": "markdown",
      "metadata": {},
      "source": [
        "Clean and Fix Rating"
      ]
    },
    {
      "cell_type": "code",
      "execution_count": 8,
      "metadata": {},
      "outputs": [
        {
          "data": {
            "text/plain": [
              "7.047793483882048"
            ]
          },
          "execution_count": 8,
          "metadata": {},
          "output_type": "execute_result"
        }
      ],
      "source": [
        "df.rating.replace(\"*9.0\", \"9.0\", inplace=True)\n",
        "df.rating = pd.to_numeric( df.rating)\n",
        "df.rating.mean()"
      ]
    },
    {
      "cell_type": "markdown",
      "metadata": {},
      "source": [
        "Clean and Fix Votes"
      ]
    },
    {
      "cell_type": "code",
      "execution_count": 9,
      "metadata": {},
      "outputs": [
        {
          "data": {
            "text/plain": [
              "630.9875883468368"
            ]
          },
          "execution_count": 9,
          "metadata": {},
          "output_type": "execute_result"
        }
      ],
      "source": [
        "df.votes = df.votes.str.replace(',', '')\n",
        "df.votes = pd.to_numeric(df.votes)\n",
        "df.votes.mean()"
      ]
    },
    {
      "cell_type": "markdown",
      "metadata": {},
      "source": [
        "change Sci-Fi to SciFi so we can do things with it\n"
      ]
    },
    {
      "cell_type": "code",
      "execution_count": 10,
      "metadata": {},
      "outputs": [],
      "source": [
        "df.columns = ['unnamed','name','url', 'year', 'certificate','rating','votes','plot summary','Action','Adventure','Comedy','Crime','Family','Fantasy','Mystery','SciFi','Thriller']\n"
      ]
    },
    {
      "cell_type": "markdown",
      "metadata": {},
      "source": [
        "## Questions"
      ]
    },
    {
      "cell_type": "markdown",
      "metadata": {},
      "source": [
        "### 1. What is the average rating for Action games?"
      ]
    },
    {
      "cell_type": "code",
      "execution_count": 11,
      "metadata": {},
      "outputs": [
        {
          "data": {
            "text/plain": [
              "7.069257468699611"
            ]
          },
          "execution_count": 11,
          "metadata": {},
          "output_type": "execute_result"
        }
      ],
      "source": [
        "df[df.Action].rating.mean()"
      ]
    },
    {
      "cell_type": "markdown",
      "metadata": {},
      "source": [
        "### 2. What is the average rating of games after 2010? What is the average rating of games before (and including) 2010?"
      ]
    },
    {
      "cell_type": "code",
      "execution_count": 12,
      "metadata": {},
      "outputs": [
        {
          "name": "stdout",
          "output_type": "stream",
          "text": [
            "Average raitng of games after 2010: 7.119838056680145\n",
            "Average raitng of games after 2010: 6.9963723962023625\n"
          ]
        }
      ],
      "source": [
        "print(f\"Average raitng of games after 2010: {df[(df.year > 2010)].rating.mean()}\")\n",
        "print(f\"Average raitng of games after 2010: {df[(df.year < 2010)].rating.mean()}\")"
      ]
    },
    {
      "cell_type": "markdown",
      "metadata": {},
      "source": [
        "### 3. What games include \"Fallout\" in their title?"
      ]
    },
    {
      "cell_type": "code",
      "execution_count": 13,
      "metadata": {},
      "outputs": [
        {
          "data": {
            "text/plain": [
              "44"
            ]
          },
          "execution_count": 13,
          "metadata": {},
          "output_type": "execute_result"
        }
      ],
      "source": [
        "(df.name.str[0:7] == \"Fallout\").sum()\n"
      ]
    },
    {
      "cell_type": "markdown",
      "metadata": {},
      "source": [
        "### 4. What is the most common certificate for Sci-Fi games? "
      ]
    },
    {
      "cell_type": "code",
      "execution_count": 14,
      "metadata": {},
      "outputs": [
        {
          "data": {
            "text/plain": [
              "T            424\n",
              "M            339\n",
              "E            185\n",
              "E10+          94\n",
              "Unrated       46\n",
              "K-A           41\n",
              "Not Rated     29\n",
              "AO             5\n",
              "GA             5\n",
              "MA-13          4\n",
              "12             3\n",
              "EC             3\n",
              "PG-13          1\n",
              "Approved       1\n",
              "G              1\n",
              "MA-17          1\n",
              "Name: certificate, dtype: int64"
            ]
          },
          "execution_count": 14,
          "metadata": {},
          "output_type": "execute_result"
        }
      ],
      "source": [
        "df[(df.SciFi)].certificate.value_counts()\n",
        "\n"
      ]
    },
    {
      "cell_type": "markdown",
      "metadata": {},
      "source": [
        "### 5. What percent of Thiller games have M or AO certificate?"
      ]
    },
    {
      "cell_type": "code",
      "execution_count": 15,
      "metadata": {},
      "outputs": [
        {
          "data": {
            "text/plain": [
              "0.3824091778202677"
            ]
          },
          "execution_count": 15,
          "metadata": {},
          "output_type": "execute_result"
        }
      ],
      "source": [
        "thriller_m_ao = df[(df.Thriller == True) & (df.certificate == 'M') | (df.certificate == 'AO')]\n",
        "thriller = df[(df.Thriller==True)]\n",
        "\n",
        "\n",
        "len(thriller_m_ao)/len(thriller)"
      ]
    },
    {
      "cell_type": "markdown",
      "metadata": {},
      "source": [
        "### 6. What is the mean and median rating for Family games? for Action games?"
      ]
    },
    {
      "cell_type": "code",
      "execution_count": 16,
      "metadata": {},
      "outputs": [
        {
          "name": "stdout",
          "output_type": "stream",
          "text": [
            "The average rating for Family Games is 6.686450381679379 \n",
            "The median rating for Family Games is 6.9 \n",
            "The average rating for Action Games is 7.069257468699611 \n",
            "The average rating for Action Games is 7.2 \n"
          ]
        }
      ],
      "source": [
        "print(f\"The average rating for Family Games is {df[df.Family].rating.mean()} \")\n",
        "print(f\"The median rating for Family Games is {df[df.Family].rating.median()} \")\n",
        "print(f\"The average rating for Action Games is {df[df.Action].rating.mean()} \")\n",
        "print(f\"The median rating for Action Games is {df[df.Action].rating.median()} \")"
      ]
    },
    {
      "cell_type": "markdown",
      "metadata": {},
      "source": [
        "### 7. Which game from 2018 got the most votes? "
      ]
    },
    {
      "cell_type": "code",
      "execution_count": 17,
      "metadata": {},
      "outputs": [
        {
          "data": {
            "text/plain": [
              "15915    Red Dead Redemption II\n",
              "Name: name, dtype: object"
            ]
          },
          "execution_count": 17,
          "metadata": {},
          "output_type": "execute_result"
        }
      ],
      "source": [
        "votes = df[df.year == 2018.0].votes.max()\n",
        "df[df.votes == votes].name"
      ]
    },
    {
      "cell_type": "markdown",
      "metadata": {},
      "source": [
        "### 8. What is the average rating for each genre (Action, Adventure, Comedy, Crime, Family, Fantasy, Mystery, Sci-Fi, and Thriller)?"
      ]
    },
    {
      "cell_type": "code",
      "execution_count": 18,
      "metadata": {},
      "outputs": [
        {
          "name": "stdout",
          "output_type": "stream",
          "text": [
            "The average rating for Thriller games is  7.1071428571428585\n",
            "The average rating for Adventure games is  7.2494638480392135\n",
            "The average rating for Comedy games is  7.189196197061372\n",
            "The average rating for Crime games is  7.315111111111107\n",
            "The average rating for Family games is  6.686450381679379\n",
            "The average rating for Fantasy games is  7.261732229123556\n",
            "The average rating for Mystery games is  7.4513286713286675\n",
            "The average rating for Sci Fi games is  6.9492544492544575\n",
            "The average rating for Action games is  7.069257468699611\n"
          ]
        }
      ],
      "source": [
        "print(f\"The average rating for Thriller games is  {df[df.Thriller].rating.mean()}\")\n",
        "print(f\"The average rating for Adventure games is  {df[df.Adventure].rating.mean()}\")\n",
        "print(f\"The average rating for Comedy games is  {df[df.Comedy].rating.mean()}\")\n",
        "print(f\"The average rating for Crime games is  {df[df.Crime].rating.mean()}\")\n",
        "print(f\"The average rating for Family games is  {df[df.Family].rating.mean()}\")\n",
        "print(f\"The average rating for Fantasy games is  {df[df.Fantasy].rating.mean()}\")\n",
        "print(f\"The average rating for Mystery games is  {df[df.Mystery].rating.mean()}\")\n",
        "print(f\"The average rating for Sci Fi games is  {df[df.SciFi].rating.mean()}\")\n",
        "print(f\"The average rating for Action games is  {df[df.Action].rating.mean()}\")       "
      ]
    },
    {
      "cell_type": "markdown",
      "metadata": {},
      "source": [
        "### 9. Which year's games received the most votes?"
      ]
    },
    {
      "cell_type": "code",
      "execution_count": 19,
      "metadata": {},
      "outputs": [
        {
          "data": {
            "text/plain": [
              "year\n",
              "2018.0    416710.0\n",
              "Name: votes, dtype: float64"
            ]
          },
          "execution_count": 19,
          "metadata": {},
          "output_type": "execute_result"
        }
      ],
      "source": [
        "#the word \"sort\" found at https://www.geeksforgeeks.org/pandas-groupby/\n",
        "df.groupby(['year'], sort = False).votes.sum().head(1)\n"
      ]
    },
    {
      "cell_type": "markdown",
      "metadata": {},
      "source": [
        "### 10. What's the average number of votes for games that are not Action games?"
      ]
    },
    {
      "cell_type": "code",
      "execution_count": 20,
      "metadata": {},
      "outputs": [
        {
          "data": {
            "text/plain": [
              "188.42715700141443"
            ]
          },
          "execution_count": 20,
          "metadata": {},
          "output_type": "execute_result"
        }
      ],
      "source": [
        "df[df.Action == False].votes.mean()"
      ]
    },
    {
      "cell_type": "markdown",
      "metadata": {},
      "source": [
        "### 11. What games are platformers?"
      ]
    },
    {
      "cell_type": "code",
      "execution_count": 21,
      "metadata": {},
      "outputs": [
        {
          "data": {
            "text/html": [
              "<div>\n",
              "<style scoped>\n",
              "    .dataframe tbody tr th:only-of-type {\n",
              "        vertical-align: middle;\n",
              "    }\n",
              "\n",
              "    .dataframe tbody tr th {\n",
              "        vertical-align: top;\n",
              "    }\n",
              "\n",
              "    .dataframe thead th {\n",
              "        text-align: right;\n",
              "    }\n",
              "</style>\n",
              "<table border=\"1\" class=\"dataframe\">\n",
              "  <thead>\n",
              "    <tr style=\"text-align: right;\">\n",
              "      <th></th>\n",
              "      <th>unnamed</th>\n",
              "      <th>name</th>\n",
              "      <th>url</th>\n",
              "      <th>year</th>\n",
              "      <th>certificate</th>\n",
              "      <th>rating</th>\n",
              "      <th>votes</th>\n",
              "      <th>plot summary</th>\n",
              "      <th>Action</th>\n",
              "      <th>Adventure</th>\n",
              "      <th>Comedy</th>\n",
              "      <th>Crime</th>\n",
              "      <th>Family</th>\n",
              "      <th>Fantasy</th>\n",
              "      <th>Mystery</th>\n",
              "      <th>SciFi</th>\n",
              "      <th>Thriller</th>\n",
              "    </tr>\n",
              "  </thead>\n",
              "  <tbody>\n",
              "    <tr>\n",
              "      <th>434</th>\n",
              "      <td>434</td>\n",
              "      <td>Sonic and the Fallen Star</td>\n",
              "      <td>https://www.imdb.com/title/tt15964560/?ref_=ad...</td>\n",
              "      <td>2021.0</td>\n",
              "      <td>E</td>\n",
              "      <td>8.3</td>\n",
              "      <td>11.0</td>\n",
              "      <td>Sonic and The Fallen Star is a 2D speed-based ...</td>\n",
              "      <td>True</td>\n",
              "      <td>True</td>\n",
              "      <td>False</td>\n",
              "      <td>False</td>\n",
              "      <td>True</td>\n",
              "      <td>False</td>\n",
              "      <td>False</td>\n",
              "      <td>False</td>\n",
              "      <td>False</td>\n",
              "    </tr>\n",
              "    <tr>\n",
              "      <th>838</th>\n",
              "      <td>836</td>\n",
              "      <td>A Hat in Time</td>\n",
              "      <td>https://www.imdb.com/title/tt3642956/?ref_=adv...</td>\n",
              "      <td>2017.0</td>\n",
              "      <td>E10+</td>\n",
              "      <td>8.1</td>\n",
              "      <td>324.0</td>\n",
              "      <td>A Hat in Time is a cute-as-heck 3D platformer ...</td>\n",
              "      <td>True</td>\n",
              "      <td>True</td>\n",
              "      <td>False</td>\n",
              "      <td>False</td>\n",
              "      <td>True</td>\n",
              "      <td>False</td>\n",
              "      <td>False</td>\n",
              "      <td>False</td>\n",
              "      <td>False</td>\n",
              "    </tr>\n",
              "    <tr>\n",
              "      <th>904</th>\n",
              "      <td>902</td>\n",
              "      <td>The Last Airbender</td>\n",
              "      <td>https://www.imdb.com/title/tt1666339/?ref_=adv...</td>\n",
              "      <td>2010.0</td>\n",
              "      <td>NaN</td>\n",
              "      <td>4.5</td>\n",
              "      <td>285.0</td>\n",
              "      <td>Action adventure platformer based on the movie...</td>\n",
              "      <td>True</td>\n",
              "      <td>True</td>\n",
              "      <td>False</td>\n",
              "      <td>False</td>\n",
              "      <td>False</td>\n",
              "      <td>True</td>\n",
              "      <td>False</td>\n",
              "      <td>False</td>\n",
              "      <td>False</td>\n",
              "    </tr>\n",
              "    <tr>\n",
              "      <th>1085</th>\n",
              "      <td>1083</td>\n",
              "      <td>Treasure Planet</td>\n",
              "      <td>https://www.imdb.com/title/tt1602487/?ref_=adv...</td>\n",
              "      <td>2002.0</td>\n",
              "      <td>E</td>\n",
              "      <td>7.2</td>\n",
              "      <td>168.0</td>\n",
              "      <td>Action-adventure 3-D platformer racing game fo...</td>\n",
              "      <td>True</td>\n",
              "      <td>True</td>\n",
              "      <td>False</td>\n",
              "      <td>False</td>\n",
              "      <td>True</td>\n",
              "      <td>False</td>\n",
              "      <td>False</td>\n",
              "      <td>False</td>\n",
              "      <td>False</td>\n",
              "    </tr>\n",
              "    <tr>\n",
              "      <th>1813</th>\n",
              "      <td>1811</td>\n",
              "      <td>Predator</td>\n",
              "      <td>https://www.imdb.com/title/tt0311669/?ref_=adv...</td>\n",
              "      <td>1989.0</td>\n",
              "      <td>Unrated</td>\n",
              "      <td>5.7</td>\n",
              "      <td>85.0</td>\n",
              "      <td>Action-platformer based on the movie of the sa...</td>\n",
              "      <td>True</td>\n",
              "      <td>True</td>\n",
              "      <td>False</td>\n",
              "      <td>False</td>\n",
              "      <td>False</td>\n",
              "      <td>False</td>\n",
              "      <td>False</td>\n",
              "      <td>True</td>\n",
              "      <td>False</td>\n",
              "    </tr>\n",
              "    <tr>\n",
              "      <th>...</th>\n",
              "      <td>...</td>\n",
              "      <td>...</td>\n",
              "      <td>...</td>\n",
              "      <td>...</td>\n",
              "      <td>...</td>\n",
              "      <td>...</td>\n",
              "      <td>...</td>\n",
              "      <td>...</td>\n",
              "      <td>...</td>\n",
              "      <td>...</td>\n",
              "      <td>...</td>\n",
              "      <td>...</td>\n",
              "      <td>...</td>\n",
              "      <td>...</td>\n",
              "      <td>...</td>\n",
              "      <td>...</td>\n",
              "      <td>...</td>\n",
              "    </tr>\n",
              "    <tr>\n",
              "      <th>18761</th>\n",
              "      <td>18759</td>\n",
              "      <td>PPL: The Animated Adventures</td>\n",
              "      <td>https://www.imdb.com/title/tt15203432/?ref_=ad...</td>\n",
              "      <td>2021.0</td>\n",
              "      <td>NaN</td>\n",
              "      <td>NaN</td>\n",
              "      <td>NaN</td>\n",
              "      <td>A challenging 2D platformer with hard boss fig...</td>\n",
              "      <td>True</td>\n",
              "      <td>False</td>\n",
              "      <td>False</td>\n",
              "      <td>False</td>\n",
              "      <td>False</td>\n",
              "      <td>True</td>\n",
              "      <td>False</td>\n",
              "      <td>False</td>\n",
              "      <td>False</td>\n",
              "    </tr>\n",
              "    <tr>\n",
              "      <th>19472</th>\n",
              "      <td>19470</td>\n",
              "      <td>Demolition Man</td>\n",
              "      <td>https://www.imdb.com/title/tt6748986/?ref_=adv...</td>\n",
              "      <td>1995.0</td>\n",
              "      <td>NaN</td>\n",
              "      <td>7.5</td>\n",
              "      <td>16.0</td>\n",
              "      <td>Acclaim's 16-bit video game for the SNES, Gene...</td>\n",
              "      <td>False</td>\n",
              "      <td>False</td>\n",
              "      <td>False</td>\n",
              "      <td>False</td>\n",
              "      <td>False</td>\n",
              "      <td>False</td>\n",
              "      <td>False</td>\n",
              "      <td>True</td>\n",
              "      <td>False</td>\n",
              "    </tr>\n",
              "    <tr>\n",
              "      <th>19474</th>\n",
              "      <td>19472</td>\n",
              "      <td>Astro Bot: Rescue Mission</td>\n",
              "      <td>https://www.imdb.com/title/tt9071226/?ref_=adv...</td>\n",
              "      <td>2018.0</td>\n",
              "      <td>E10+</td>\n",
              "      <td>9.1</td>\n",
              "      <td>197.0</td>\n",
              "      <td>ASTRO BOT Rescue Mission is a brand new platfo...</td>\n",
              "      <td>False</td>\n",
              "      <td>False</td>\n",
              "      <td>False</td>\n",
              "      <td>False</td>\n",
              "      <td>False</td>\n",
              "      <td>False</td>\n",
              "      <td>False</td>\n",
              "      <td>True</td>\n",
              "      <td>False</td>\n",
              "    </tr>\n",
              "    <tr>\n",
              "      <th>19627</th>\n",
              "      <td>19625</td>\n",
              "      <td>20XX</td>\n",
              "      <td>https://www.imdb.com/title/tt5862250/?ref_=adv...</td>\n",
              "      <td>2017.0</td>\n",
              "      <td>E10+</td>\n",
              "      <td>6.6</td>\n",
              "      <td>25.0</td>\n",
              "      <td>20XX is a roguelike action platformer that you...</td>\n",
              "      <td>True</td>\n",
              "      <td>True</td>\n",
              "      <td>False</td>\n",
              "      <td>False</td>\n",
              "      <td>False</td>\n",
              "      <td>False</td>\n",
              "      <td>False</td>\n",
              "      <td>True</td>\n",
              "      <td>False</td>\n",
              "    </tr>\n",
              "    <tr>\n",
              "      <th>19723</th>\n",
              "      <td>19721</td>\n",
              "      <td>Creator Crate</td>\n",
              "      <td>https://www.imdb.com/title/tt11243630/?ref_=ad...</td>\n",
              "      <td>2021.0</td>\n",
              "      <td>NaN</td>\n",
              "      <td>NaN</td>\n",
              "      <td>NaN</td>\n",
              "      <td>CreatorCrate is a roguelike 2D platformer abou...</td>\n",
              "      <td>True</td>\n",
              "      <td>False</td>\n",
              "      <td>False</td>\n",
              "      <td>False</td>\n",
              "      <td>False</td>\n",
              "      <td>False</td>\n",
              "      <td>False</td>\n",
              "      <td>True</td>\n",
              "      <td>False</td>\n",
              "    </tr>\n",
              "  </tbody>\n",
              "</table>\n",
              "<p>131 rows × 17 columns</p>\n",
              "</div>"
            ],
            "text/plain": [
              "       unnamed                          name  \\\n",
              "434        434     Sonic and the Fallen Star   \n",
              "838        836                 A Hat in Time   \n",
              "904        902            The Last Airbender   \n",
              "1085      1083               Treasure Planet   \n",
              "1813      1811                      Predator   \n",
              "...        ...                           ...   \n",
              "18761    18759  PPL: The Animated Adventures   \n",
              "19472    19470                Demolition Man   \n",
              "19474    19472     Astro Bot: Rescue Mission   \n",
              "19627    19625                          20XX   \n",
              "19723    19721                 Creator Crate   \n",
              "\n",
              "                                                     url    year certificate  \\\n",
              "434    https://www.imdb.com/title/tt15964560/?ref_=ad...  2021.0           E   \n",
              "838    https://www.imdb.com/title/tt3642956/?ref_=adv...  2017.0        E10+   \n",
              "904    https://www.imdb.com/title/tt1666339/?ref_=adv...  2010.0         NaN   \n",
              "1085   https://www.imdb.com/title/tt1602487/?ref_=adv...  2002.0           E   \n",
              "1813   https://www.imdb.com/title/tt0311669/?ref_=adv...  1989.0     Unrated   \n",
              "...                                                  ...     ...         ...   \n",
              "18761  https://www.imdb.com/title/tt15203432/?ref_=ad...  2021.0         NaN   \n",
              "19472  https://www.imdb.com/title/tt6748986/?ref_=adv...  1995.0         NaN   \n",
              "19474  https://www.imdb.com/title/tt9071226/?ref_=adv...  2018.0        E10+   \n",
              "19627  https://www.imdb.com/title/tt5862250/?ref_=adv...  2017.0        E10+   \n",
              "19723  https://www.imdb.com/title/tt11243630/?ref_=ad...  2021.0         NaN   \n",
              "\n",
              "       rating  votes                                       plot summary  \\\n",
              "434       8.3   11.0  Sonic and The Fallen Star is a 2D speed-based ...   \n",
              "838       8.1  324.0  A Hat in Time is a cute-as-heck 3D platformer ...   \n",
              "904       4.5  285.0  Action adventure platformer based on the movie...   \n",
              "1085      7.2  168.0  Action-adventure 3-D platformer racing game fo...   \n",
              "1813      5.7   85.0  Action-platformer based on the movie of the sa...   \n",
              "...       ...    ...                                                ...   \n",
              "18761     NaN    NaN  A challenging 2D platformer with hard boss fig...   \n",
              "19472     7.5   16.0  Acclaim's 16-bit video game for the SNES, Gene...   \n",
              "19474     9.1  197.0  ASTRO BOT Rescue Mission is a brand new platfo...   \n",
              "19627     6.6   25.0  20XX is a roguelike action platformer that you...   \n",
              "19723     NaN    NaN  CreatorCrate is a roguelike 2D platformer abou...   \n",
              "\n",
              "       Action  Adventure  Comedy  Crime  Family  Fantasy  Mystery  SciFi  \\\n",
              "434      True       True   False  False    True    False    False  False   \n",
              "838      True       True   False  False    True    False    False  False   \n",
              "904      True       True   False  False   False     True    False  False   \n",
              "1085     True       True   False  False    True    False    False  False   \n",
              "1813     True       True   False  False   False    False    False   True   \n",
              "...       ...        ...     ...    ...     ...      ...      ...    ...   \n",
              "18761    True      False   False  False   False     True    False  False   \n",
              "19472   False      False   False  False   False    False    False   True   \n",
              "19474   False      False   False  False   False    False    False   True   \n",
              "19627    True       True   False  False   False    False    False   True   \n",
              "19723    True      False   False  False   False    False    False   True   \n",
              "\n",
              "       Thriller  \n",
              "434       False  \n",
              "838       False  \n",
              "904       False  \n",
              "1085      False  \n",
              "1813      False  \n",
              "...         ...  \n",
              "18761     False  \n",
              "19472     False  \n",
              "19474     False  \n",
              "19627     False  \n",
              "19723     False  \n",
              "\n",
              "[131 rows x 17 columns]"
            ]
          },
          "execution_count": 21,
          "metadata": {},
          "output_type": "execute_result"
        }
      ],
      "source": [
        "df[df['plot summary'].str.contains('platformer')]"
      ]
    },
    {
      "cell_type": "markdown",
      "metadata": {},
      "source": [
        "### 12.What is the most common certificate of games with rating greater than 8.0 and votes greater than 1000?"
      ]
    },
    {
      "cell_type": "code",
      "execution_count": 22,
      "metadata": {},
      "outputs": [
        {
          "data": {
            "text/plain": [
              "M    363\n",
              "Name: certificate, dtype: int64"
            ]
          },
          "execution_count": 22,
          "metadata": {},
          "output_type": "execute_result"
        }
      ],
      "source": [
        "df[(df.rating > 8.0) & (df.votes > 1000)].certificate.value_counts().head(1)"
      ]
    },
    {
      "cell_type": "markdown",
      "metadata": {},
      "source": [
        "### 13. For games with ratings greater than the 75th percentile for ratings and a number of votes greater than the 75th percentile for votes, what is the most common genre?"
      ]
    },
    {
      "cell_type": "code",
      "execution_count": 23,
      "metadata": {},
      "outputs": [
        {
          "name": "stdout",
          "output_type": "stream",
          "text": [
            "Action 1102\n",
            "Adventure 993\n",
            "SciFi 186\n",
            "Thriller 55\n"
          ]
        }
      ],
      "source": [
        "rating_threshold = df.rating.quantile(0.75)\n",
        "votes_threshold = df.votes.quantile(0.75)\n",
        "\n",
        "genres = [\"Action\", \"Adventure\", \"SciFi\", \"Thriller\"]\n",
        "\n",
        "good_games = df[(df.rating > rating_threshold) & (df.votes > votes_threshold)]\n",
        "\n",
        "for genre in genres:\n",
        "    print(genre, len(good_games[good_games[genre]==True]))\n",
        "\n",
        "\n",
        "# good_action_games = good_games[good_games.Action == True]\n",
        "# print(\"Action\", len(good_action_games))\n",
        "\n",
        "# good_adventure_games = good_games[good_games.Adventure == True]\n",
        "# print(\"Adventure\", len(good_adventure_games))"
      ]
    },
    {
      "cell_type": "markdown",
      "metadata": {},
      "source": [
        "### 14. What are the average ratings by year?"
      ]
    },
    {
      "cell_type": "code",
      "execution_count": 24,
      "metadata": {},
      "outputs": [
        {
          "data": {
            "text/plain": [
              "year\n",
              "1952.0    7.000000\n",
              "1962.0    6.800000\n",
              "1964.0         NaN\n",
              "1969.0    6.950000\n",
              "1970.0    4.300000\n",
              "            ...   \n",
              "2022.0    7.563063\n",
              "2023.0         NaN\n",
              "2024.0         NaN\n",
              "2025.0         NaN\n",
              "2027.0         NaN\n",
              "Name: rating, Length: 61, dtype: float64"
            ]
          },
          "execution_count": 24,
          "metadata": {},
          "output_type": "execute_result"
        }
      ],
      "source": [
        "df.groupby(['year']).rating.mean()\n"
      ]
    },
    {
      "cell_type": "markdown",
      "metadata": {},
      "source": [
        "### 15. For each cerficate, what was the average rating and average number of votes?\n",
        " "
      ]
    },
    {
      "cell_type": "code",
      "execution_count": 25,
      "metadata": {},
      "outputs": [
        {
          "data": {
            "text/html": [
              "<div>\n",
              "<style scoped>\n",
              "    .dataframe tbody tr th:only-of-type {\n",
              "        vertical-align: middle;\n",
              "    }\n",
              "\n",
              "    .dataframe tbody tr th {\n",
              "        vertical-align: top;\n",
              "    }\n",
              "\n",
              "    .dataframe thead th {\n",
              "        text-align: right;\n",
              "    }\n",
              "</style>\n",
              "<table border=\"1\" class=\"dataframe\">\n",
              "  <thead>\n",
              "    <tr style=\"text-align: right;\">\n",
              "      <th></th>\n",
              "      <th>rating</th>\n",
              "      <th>votes</th>\n",
              "    </tr>\n",
              "    <tr>\n",
              "      <th>certificate</th>\n",
              "      <th></th>\n",
              "      <th></th>\n",
              "    </tr>\n",
              "  </thead>\n",
              "  <tbody>\n",
              "    <tr>\n",
              "      <th>12</th>\n",
              "      <td>7.350000</td>\n",
              "      <td>31.375000</td>\n",
              "    </tr>\n",
              "    <tr>\n",
              "      <th>AO</th>\n",
              "      <td>6.493333</td>\n",
              "      <td>246.333333</td>\n",
              "    </tr>\n",
              "    <tr>\n",
              "      <th>Approved</th>\n",
              "      <td>6.900000</td>\n",
              "      <td>52.333333</td>\n",
              "    </tr>\n",
              "    <tr>\n",
              "      <th>CE</th>\n",
              "      <td>5.520000</td>\n",
              "      <td>12.600000</td>\n",
              "    </tr>\n",
              "    <tr>\n",
              "      <th>E</th>\n",
              "      <td>7.085637</td>\n",
              "      <td>332.329063</td>\n",
              "    </tr>\n",
              "    <tr>\n",
              "      <th>E10+</th>\n",
              "      <td>7.181231</td>\n",
              "      <td>520.265766</td>\n",
              "    </tr>\n",
              "    <tr>\n",
              "      <th>EC</th>\n",
              "      <td>6.142857</td>\n",
              "      <td>18.857143</td>\n",
              "    </tr>\n",
              "    <tr>\n",
              "      <th>G</th>\n",
              "      <td>5.600000</td>\n",
              "      <td>11.500000</td>\n",
              "    </tr>\n",
              "    <tr>\n",
              "      <th>GA</th>\n",
              "      <td>6.531579</td>\n",
              "      <td>165.105263</td>\n",
              "    </tr>\n",
              "    <tr>\n",
              "      <th>K-A</th>\n",
              "      <td>6.913089</td>\n",
              "      <td>349.324607</td>\n",
              "    </tr>\n",
              "    <tr>\n",
              "      <th>M</th>\n",
              "      <td>7.515584</td>\n",
              "      <td>2498.627557</td>\n",
              "    </tr>\n",
              "    <tr>\n",
              "      <th>MA-13</th>\n",
              "      <td>7.080000</td>\n",
              "      <td>83.200000</td>\n",
              "    </tr>\n",
              "    <tr>\n",
              "      <th>MA-17</th>\n",
              "      <td>6.000000</td>\n",
              "      <td>165.666667</td>\n",
              "    </tr>\n",
              "    <tr>\n",
              "      <th>Not Rated</th>\n",
              "      <td>6.703650</td>\n",
              "      <td>110.759124</td>\n",
              "    </tr>\n",
              "    <tr>\n",
              "      <th>PG</th>\n",
              "      <td>5.933333</td>\n",
              "      <td>106.333333</td>\n",
              "    </tr>\n",
              "    <tr>\n",
              "      <th>PG-13</th>\n",
              "      <td>6.628571</td>\n",
              "      <td>119.000000</td>\n",
              "    </tr>\n",
              "    <tr>\n",
              "      <th>Passed</th>\n",
              "      <td>4.700000</td>\n",
              "      <td>19.000000</td>\n",
              "    </tr>\n",
              "    <tr>\n",
              "      <th>T</th>\n",
              "      <td>7.295178</td>\n",
              "      <td>829.020862</td>\n",
              "    </tr>\n",
              "    <tr>\n",
              "      <th>TV-14</th>\n",
              "      <td>7.000000</td>\n",
              "      <td>127.000000</td>\n",
              "    </tr>\n",
              "    <tr>\n",
              "      <th>TV-MA</th>\n",
              "      <td>7.000000</td>\n",
              "      <td>8.000000</td>\n",
              "    </tr>\n",
              "    <tr>\n",
              "      <th>Unrated</th>\n",
              "      <td>6.478222</td>\n",
              "      <td>135.973333</td>\n",
              "    </tr>\n",
              "  </tbody>\n",
              "</table>\n",
              "</div>"
            ],
            "text/plain": [
              "               rating        votes\n",
              "certificate                       \n",
              "12           7.350000    31.375000\n",
              "AO           6.493333   246.333333\n",
              "Approved     6.900000    52.333333\n",
              "CE           5.520000    12.600000\n",
              "E            7.085637   332.329063\n",
              "E10+         7.181231   520.265766\n",
              "EC           6.142857    18.857143\n",
              "G            5.600000    11.500000\n",
              "GA           6.531579   165.105263\n",
              "K-A          6.913089   349.324607\n",
              "M            7.515584  2498.627557\n",
              "MA-13        7.080000    83.200000\n",
              "MA-17        6.000000   165.666667\n",
              "Not Rated    6.703650   110.759124\n",
              "PG           5.933333   106.333333\n",
              "PG-13        6.628571   119.000000\n",
              "Passed       4.700000    19.000000\n",
              "T            7.295178   829.020862\n",
              "TV-14        7.000000   127.000000\n",
              "TV-MA        7.000000     8.000000\n",
              "Unrated      6.478222   135.973333"
            ]
          },
          "execution_count": 25,
          "metadata": {},
          "output_type": "execute_result"
        }
      ],
      "source": [
        "\n",
        "avgRate = df.groupby(['certificate']).rating.mean()\n",
        "avgVote = df.groupby(['certificate']).votes.mean()\n",
        "\n",
        "pd.concat([avgRate,avgVote], axis=1)\n"
      ]
    }
  ],
  "metadata": {
    "colab": {
      "authorship_tag": "ABX9TyPG+ssWMxKywRQDkeiR9E1U",
      "include_colab_link": true,
      "mount_file_id": "1V16IS1TA0CmRy78Zy03QMP9hHtjmYEcW",
      "name": "EDA_10Steps.ipynb",
      "provenance": []
    },
    "kernelspec": {
      "display_name": "Python 3.8.5 ('base')",
      "language": "python",
      "name": "python3"
    },
    "language_info": {
      "codemirror_mode": {
        "name": "ipython",
        "version": 3
      },
      "file_extension": ".py",
      "mimetype": "text/x-python",
      "name": "python",
      "nbconvert_exporter": "python",
      "pygments_lexer": "ipython3",
      "version": "3.8.5"
    },
    "vscode": {
      "interpreter": {
        "hash": "c471063a423a12bc31c75690bebc4e46aa16be278dfa940fb5a0a9b8b4b1bcfc"
      }
    }
  },
  "nbformat": 4,
  "nbformat_minor": 0
}
